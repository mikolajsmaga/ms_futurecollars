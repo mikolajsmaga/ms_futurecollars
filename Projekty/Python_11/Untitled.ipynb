{
 "cells": [
  {
   "cell_type": "code",
   "execution_count": null,
   "id": "47c8f2ac-3e31-40ce-ad19-f29aee9111bf",
   "metadata": {},
   "outputs": [],
   "source": [
    "from reader_handlers import CSVHandler\n",
    "\n",
    "csv_handler = CsvHandler('in.csv', 'out.csv', ['0,0,gitara', '3,1,kubek'])\n",
    "csv_handler.load_data()\n",
    "csv_handler.apply_changes()\n",
    "csv_handler.display_data()\n",
    "csv_handler.save_data()"
   ]
  },
  {
   "cell_type": "code",
   "execution_count": 2,
   "id": "390c63df-1b6a-424d-a5ab-3c9aa0275fa0",
   "metadata": {},
   "outputs": [
    {
     "ename": "ImportError",
     "evalue": "cannot import name 'CSVHandler' from 'reader_handlers' (C:\\Future_Collars\\projekty\\python_11\\reader_handlers.py)",
     "output_type": "error",
     "traceback": [
      "\u001b[31m---------------------------------------------------------------------------\u001b[39m",
      "\u001b[31mImportError\u001b[39m                               Traceback (most recent call last)",
      "\u001b[36mCell\u001b[39m\u001b[36m \u001b[39m\u001b[32mIn[2]\u001b[39m\u001b[32m, line 1\u001b[39m\n\u001b[32m----> \u001b[39m\u001b[32m1\u001b[39m \u001b[38;5;28;01mfrom\u001b[39;00m\u001b[38;5;250m \u001b[39m\u001b[34;01mreader_handlers\u001b[39;00m\u001b[38;5;250m \u001b[39m\u001b[38;5;28;01mimport\u001b[39;00m CSVHandler\n\u001b[32m      3\u001b[39m csv_handler = CsvHandler(\u001b[33m'\u001b[39m\u001b[33min.csv\u001b[39m\u001b[33m'\u001b[39m, \u001b[33m'\u001b[39m\u001b[33mout.csv\u001b[39m\u001b[33m'\u001b[39m, [\u001b[33m'\u001b[39m\u001b[33m0,0,gitara\u001b[39m\u001b[33m'\u001b[39m, \u001b[33m'\u001b[39m\u001b[33m3,1,kubek\u001b[39m\u001b[33m'\u001b[39m])\n\u001b[32m      4\u001b[39m csv_handler.load_data()\n",
      "\u001b[31mImportError\u001b[39m: cannot import name 'CSVHandler' from 'reader_handlers' (C:\\Future_Collars\\projekty\\python_11\\reader_handlers.py)"
     ]
    }
   ],
   "source": [
    "from reader_handlers import CSVHandler\n",
    "\n",
    "csv_handler = CsvHandler('in.csv', 'out.csv', ['0,0,gitara', '3,1,kubek'])\n",
    "csv_handler.load_data()\n",
    "csv_handler.apply_changes()\n",
    "csv_handler.display_data()\n",
    "csv_handler.save_data()"
   ]
  },
  {
   "cell_type": "code",
   "execution_count": null,
   "id": "39fd4ac4-a1c8-4ef6-951f-32b727763286",
   "metadata": {},
   "outputs": [],
   "source": []
  }
 ],
 "metadata": {
  "kernelspec": {
   "display_name": "Python 3 (ipykernel)",
   "language": "python",
   "name": "python3"
  },
  "language_info": {
   "codemirror_mode": {
    "name": "ipython",
    "version": 3
   },
   "file_extension": ".py",
   "mimetype": "text/x-python",
   "name": "python",
   "nbconvert_exporter": "python",
   "pygments_lexer": "ipython3",
   "version": "3.13.3"
  }
 },
 "nbformat": 4,
 "nbformat_minor": 5
}
